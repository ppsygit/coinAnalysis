{
 "cells": [
  {
   "cell_type": "markdown",
   "id": "22cc5282",
   "metadata": {
    "vscode": {
     "languageId": "raw"
    }
   },
   "source": [
    "### 데이터 가져오기\n",
    "\n",
    "하루의 binance api를 요청하여 5분 간격의 코인 시세 정보를 가져옵니다. "
   ]
  },
  {
   "cell_type": "code",
   "execution_count": 1,
   "id": "273241e9-2ceb-4372-827b-e93fc72ab117",
   "metadata": {},
   "outputs": [],
   "source": [
    "import pandas as pd\n",
    "\n",
    "from binance.client import Client # 바이낸스"
   ]
  },
  {
   "cell_type": "code",
   "execution_count": 2,
   "id": "0b20e7e6-054a-43d1-9a1a-e70c4399468e",
   "metadata": {},
   "outputs": [],
   "source": [
    "# 바이낸스 5분봉\n",
    "def get_5m_binance(start, end):\n",
    "\n",
    "    # 회원가입 후 key를 발급받는다.\n",
    "    api_key = '입력'\n",
    "    api_secret = '입력'\n",
    "    client = Client(api_key=api_key, api_secret=api_secret)\n",
    "    \n",
    "    minute = client.get_historical_klines(\n",
    "        symbol='BTCUSDT',\n",
    "        interval='5m',\n",
    "        start_str=start,\n",
    "        end_str=end\n",
    "        # limit=200 # max = 1000\n",
    "    )\n",
    "    \n",
    "    columns = ['Open time', 'Open', 'High', 'Low', 'Close',\n",
    "               'Volume', 'Close time', 'Quote asset volume', 'Number of trades',\n",
    "               'Taker buy base asset volume', 'Taker buy quote asset volume', 'Ignore']\n",
    "    \n",
    "    binance = pd.DataFrame(minute, columns=columns)\n",
    "    binance['Open time'] = pd.to_datetime(binance['Open time'], unit='ms')\n",
    "    \n",
    "    return binance"
   ]
  },
  {
   "cell_type": "code",
   "execution_count": 3,
   "id": "ece06895-5120-4ca7-9eb2-89b721d582de",
   "metadata": {},
   "outputs": [],
   "source": [
    "binance_2022 = get_5m_binance('2022-01-01', '2023-01-01') # 2022년\n",
    "binance_2022 = binance_2022.drop(binance_2022.index[-1]) # 마지막 인덱스 제외('2023-01-01 00:00:00')\n",
    "binance_2022.to_csv('DATA/Binance_BTC_prices_2022_5min.csv', index=False) # csv 파일로 저장"
   ]
  },
  {
   "cell_type": "code",
   "execution_count": 4,
   "id": "182ba14d-9bd2-41cc-9092-e1f87f8ab68b",
   "metadata": {},
   "outputs": [],
   "source": [
    "binance_2023 = get_5m_binance('2023-01-01', '2024-01-01') # 2023년\n",
    "binance_2023 = binance_2023.drop(binance_2023.index[-1])\n",
    "binance_2023.to_csv('DATA/Binance_BTC_prices_2023_5min.csv', index=False) # csv 파일로 저장"
   ]
  },
  {
   "cell_type": "code",
   "execution_count": 5,
   "id": "7e654f8d-c6ae-4f78-be7e-0ddc86462c06",
   "metadata": {},
   "outputs": [
    {
     "name": "stdout",
     "output_type": "stream",
     "text": [
      "(105120, 12)\n",
      "(105104, 12)\n",
      "105120\n"
     ]
    }
   ],
   "source": [
    "# 데이터 개수 검사\n",
    "print(binance_2022.shape)\n",
    "print(binance_2023.shape) # 2023년도 데이터가 모자르다.\n",
    "print(365*288)"
   ]
  },
  {
   "cell_type": "markdown",
   "id": "053711c2-812b-427a-aca1-d20fdfa83ab9",
   "metadata": {},
   "source": [
    "### 2023년도 바이낸스 결측치 확인"
   ]
  },
  {
   "cell_type": "code",
   "execution_count": 6,
   "id": "6dca559f-a68f-477b-8c2e-6604652d7ec8",
   "metadata": {},
   "outputs": [],
   "source": [
    "binance_2023['Open time'] = pd.to_datetime(binance_2023['Open time'])"
   ]
  },
  {
   "cell_type": "code",
   "execution_count": 7,
   "id": "2cc2166f-2a91-4a09-8db0-78532c53c5d9",
   "metadata": {},
   "outputs": [],
   "source": [
    "binance_2023['month'] = binance_2023['Open time'].dt.month\n",
    "binance_2023['day'] = binance_2023['Open time'].dt.day\n",
    "binance_2023['hour'] = binance_2023['Open time'].dt.hour"
   ]
  },
  {
   "cell_type": "code",
   "execution_count": 8,
   "id": "5fd2444c-acb9-4f13-8551-c7551c8c9305",
   "metadata": {},
   "outputs": [
    {
     "data": {
      "text/plain": [
       "month  day\n",
       "3      24     272\n",
       "dtype: int64"
      ]
     },
     "execution_count": 8,
     "metadata": {},
     "output_type": "execute_result"
    }
   ],
   "source": [
    "check = binance_2023.groupby(['month', 'day']).size()\n",
    "check[check != 288] # 하루에 288개의 캔들이 나와야 한다."
   ]
  },
  {
   "cell_type": "code",
   "execution_count": 9,
   "id": "ddd4f989-5dcc-444d-8c9d-d631fd3bc179",
   "metadata": {},
   "outputs": [
    {
     "data": {
      "text/plain": [
       "hour\n",
       "0     12\n",
       "1     12\n",
       "2     12\n",
       "3     12\n",
       "4     12\n",
       "5     12\n",
       "6     12\n",
       "7     12\n",
       "8     12\n",
       "9     12\n",
       "10    12\n",
       "11    12\n",
       "12     8\n",
       "14    12\n",
       "15    12\n",
       "16    12\n",
       "17    12\n",
       "18    12\n",
       "19    12\n",
       "20    12\n",
       "21    12\n",
       "22    12\n",
       "23    12\n",
       "dtype: int64"
      ]
     },
     "execution_count": 9,
     "metadata": {},
     "output_type": "execute_result"
    }
   ],
   "source": [
    "binance_3_24 = binance_2023[(binance_2023['month'] == 3) & (binance_2023['day'] == 24)]\n",
    "binance_3_24.groupby('hour').size()"
   ]
  },
  {
   "cell_type": "markdown",
   "id": "3f2362fc-7f30-4d5f-b095-2c13d27827c0",
   "metadata": {},
   "source": [
    "- 바이낸스 2023년도 데이터 부족한 이유 서칭\n",
    "- https://www.binance.com/en/support/announcement/binance-spot-trading-system-temporary-maintenance-complete-2023-03-24-813a31506e9f478ea8c1058b425df87a\n",
    "- binance 3월 24일 일시점검 14:00 거래 재개"
   ]
  },
  {
   "cell_type": "code",
   "execution_count": null,
   "id": "3d449cef-de67-46ef-83f8-f24fd4c06f87",
   "metadata": {},
   "outputs": [],
   "source": []
  }
 ],
 "metadata": {
  "kernelspec": {
   "display_name": "Python 3 (ipykernel)",
   "language": "python",
   "name": "python3"
  },
  "language_info": {
   "codemirror_mode": {
    "name": "ipython",
    "version": 3
   },
   "file_extension": ".py",
   "mimetype": "text/x-python",
   "name": "python",
   "nbconvert_exporter": "python",
   "pygments_lexer": "ipython3",
   "version": "3.11.7"
  }
 },
 "nbformat": 4,
 "nbformat_minor": 5
}
