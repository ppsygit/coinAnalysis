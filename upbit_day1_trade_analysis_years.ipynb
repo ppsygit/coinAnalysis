{
 "cells": [
  {
   "cell_type": "code",
   "execution_count": 6,
   "metadata": {},
   "outputs": [],
   "source": [
    "year_list = list(range(2018, 2023))"
   ]
  },
  {
   "cell_type": "code",
   "execution_count": 7,
   "metadata": {},
   "outputs": [],
   "source": [
    "import pandas as pd\n",
    "df_total_trade = pd.DataFrame()\n",
    "for year in year_list:\n",
    "    df = pd.read_csv(f'DATA/{year}_total_trade_DATA.csv')\n",
    "    df_total_trade = pd.concat([df_total_trade,df])"
   ]
  },
  {
   "cell_type": "code",
   "execution_count": 8,
   "metadata": {},
   "outputs": [],
   "source": [
    "df_total_trade = df_total_trade.reset_index().drop(columns = ['Unnamed: 0', 'Unnamed: 0.1', 'index'])"
   ]
  },
  {
   "cell_type": "code",
   "execution_count": 10,
   "metadata": {},
   "outputs": [
    {
     "data": {
      "text/plain": [
       "coin\n",
       "1INCH     -11.226395\n",
       "AAVE      -70.740023\n",
       "ADA      1997.307567\n",
       "AERGO     -50.710282\n",
       "AHT        85.849157\n",
       "            ...     \n",
       "XLM        16.709839\n",
       "XRP       913.196457\n",
       "XTZ       -45.995541\n",
       "ZIL      1146.396788\n",
       "ZRX       205.120196\n",
       "Name: profit_rate_plus, Length: 88, dtype: float64"
      ]
     },
     "execution_count": 10,
     "metadata": {},
     "output_type": "execute_result"
    }
   ],
   "source": [
    "# 수익률 퍼센트\n",
    "temp = df_total_trade.copy()\n",
    "temp['profit_rate_plus'] = temp['profit_rate'] + 1\n",
    "res = (temp.groupby('coin')['profit_rate_plus'].prod()-1)*100\n",
    "res"
   ]
  },
  {
   "cell_type": "code",
   "execution_count": 12,
   "metadata": {},
   "outputs": [
    {
     "data": {
      "text/plain": [
       "count    88.000000\n",
       "mean      5.745283\n",
       "std       9.732363\n",
       "min       0.063107\n",
       "25%       0.689931\n",
       "50%       1.714290\n",
       "75%       6.033464\n",
       "max      67.232034\n",
       "Name: profit_rate_plus, dtype: float64"
      ]
     },
     "execution_count": 12,
     "metadata": {},
     "output_type": "execute_result"
    }
   ],
   "source": [
    "# 각 투자결과에 대한 describe\n",
    "(1 + 1*(res/100)).describe()"
   ]
  },
  {
   "cell_type": "code",
   "execution_count": 15,
   "metadata": {},
   "outputs": [
    {
     "data": {
      "text/plain": [
       "4.738636363636363"
      ]
     },
     "execution_count": 15,
     "metadata": {},
     "output_type": "execute_result"
    }
   ],
   "source": [
    "(505-88)/88"
   ]
  },
  {
   "cell_type": "code",
   "execution_count": 13,
   "metadata": {},
   "outputs": [
    {
     "data": {
      "text/plain": [
       "505.5849467309937"
      ]
     },
     "execution_count": 13,
     "metadata": {},
     "output_type": "execute_result"
    }
   ],
   "source": [
    "(1 + 1*(res/100)).sum()"
   ]
  },
  {
   "cell_type": "code",
   "execution_count": 29,
   "metadata": {},
   "outputs": [
    {
     "data": {
      "text/plain": [
       "335.3811782348709"
      ]
     },
     "execution_count": 29,
     "metadata": {},
     "output_type": "execute_result"
    }
   ],
   "source": [
    "# BTC만 투자했을 때 수익률 퍼센트\n",
    "res['BTC']"
   ]
  },
  {
   "cell_type": "code",
   "execution_count": 25,
   "metadata": {},
   "outputs": [
    {
     "data": {
      "text/plain": [
       "coin\n",
       "BORA     6623.203435\n",
       "CHZ      3539.701204\n",
       "ETC      3115.682807\n",
       "TFUEL    2015.330455\n",
       "ADA      1997.307567\n",
       "BTT      1928.788511\n",
       "MANA     1889.528671\n",
       "POLYX    1718.209857\n",
       "BTG      1559.537936\n",
       "SAND     1283.003468\n",
       "Name: profit_rate_plus, dtype: float64"
      ]
     },
     "execution_count": 25,
     "metadata": {},
     "output_type": "execute_result"
    }
   ],
   "source": [
    "res.sort_values(ascending=False)[:10] "
   ]
  },
  {
   "cell_type": "code",
   "execution_count": 26,
   "metadata": {},
   "outputs": [
    {
     "data": {
      "text/plain": [
       "coin\n",
       "SOL     -72.991618\n",
       "STPT    -73.621306\n",
       "STX     -74.593697\n",
       "UPP     -76.739612\n",
       "STEEM   -78.260327\n",
       "SBD     -79.242067\n",
       "AQT     -82.201949\n",
       "MTL     -86.279451\n",
       "STRAX   -86.683330\n",
       "IQ      -93.689312\n",
       "Name: profit_rate_plus, dtype: float64"
      ]
     },
     "execution_count": 26,
     "metadata": {},
     "output_type": "execute_result"
    }
   ],
   "source": [
    "res.sort_values(ascending=False)[-10:]"
   ]
  },
  {
   "cell_type": "code",
   "execution_count": null,
   "metadata": {},
   "outputs": [],
   "source": []
  }
 ],
 "metadata": {
  "kernelspec": {
   "display_name": "base",
   "language": "python",
   "name": "python3"
  },
  "language_info": {
   "codemirror_mode": {
    "name": "ipython",
    "version": 3
   },
   "file_extension": ".py",
   "mimetype": "text/x-python",
   "name": "python",
   "nbconvert_exporter": "python",
   "pygments_lexer": "ipython3",
   "version": "3.11.7"
  }
 },
 "nbformat": 4,
 "nbformat_minor": 2
}
