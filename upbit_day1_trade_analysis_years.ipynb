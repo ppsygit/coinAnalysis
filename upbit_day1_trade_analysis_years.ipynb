{
 "cells": [
  {
   "cell_type": "code",
   "execution_count": 13,
   "metadata": {},
   "outputs": [
    {
     "data": {
      "text/plain": [
       "[2018, 2019, 2020, 2021, 2022, 2023]"
      ]
     },
     "execution_count": 13,
     "metadata": {},
     "output_type": "execute_result"
    }
   ],
   "source": [
    "year_list = list(range(2018, 202))\n",
    "year_list"
   ]
  },
  {
   "cell_type": "code",
   "execution_count": 14,
   "metadata": {},
   "outputs": [],
   "source": [
    "import pandas as pd\n",
    "df_total_trade = pd.DataFrame()\n",
    "for year in year_list:\n",
    "    df = pd.read_csv(f'DATA/{year}_total_trade_DATA.csv')\n",
    "    df_total_trade = pd.concat([df_total_trade,df])"
   ]
  },
  {
   "cell_type": "code",
   "execution_count": 15,
   "metadata": {},
   "outputs": [],
   "source": [
    "df_total_trade = df_total_trade.reset_index().drop(columns = ['Unnamed: 0', 'Unnamed: 0.1', 'index'])"
   ]
  },
  {
   "cell_type": "code",
   "execution_count": 16,
   "metadata": {},
   "outputs": [
    {
     "data": {
      "text/html": [
       "<div>\n",
       "<style scoped>\n",
       "    .dataframe tbody tr th:only-of-type {\n",
       "        vertical-align: middle;\n",
       "    }\n",
       "\n",
       "    .dataframe tbody tr th {\n",
       "        vertical-align: top;\n",
       "    }\n",
       "\n",
       "    .dataframe thead th {\n",
       "        text-align: right;\n",
       "    }\n",
       "</style>\n",
       "<table border=\"1\" class=\"dataframe\">\n",
       "  <thead>\n",
       "    <tr style=\"text-align: right;\">\n",
       "      <th></th>\n",
       "      <th>coin</th>\n",
       "      <th>buy_date</th>\n",
       "      <th>buy</th>\n",
       "      <th>sell_date</th>\n",
       "      <th>sell</th>\n",
       "      <th>profit</th>\n",
       "      <th>profit_rate</th>\n",
       "    </tr>\n",
       "  </thead>\n",
       "  <tbody>\n",
       "    <tr>\n",
       "      <th>0</th>\n",
       "      <td>BTC</td>\n",
       "      <td>2018-01-05</td>\n",
       "      <td>2.745772e+07</td>\n",
       "      <td>2018-01-11</td>\n",
       "      <td>1.937931e+07</td>\n",
       "      <td>-8078416.500</td>\n",
       "      <td>-0.294213</td>\n",
       "    </tr>\n",
       "    <tr>\n",
       "      <th>1</th>\n",
       "      <td>BTC</td>\n",
       "      <td>2018-04-20</td>\n",
       "      <td>9.556776e+06</td>\n",
       "      <td>2018-05-09</td>\n",
       "      <td>1.039980e+07</td>\n",
       "      <td>843021.500</td>\n",
       "      <td>0.088212</td>\n",
       "    </tr>\n",
       "    <tr>\n",
       "      <th>2</th>\n",
       "      <td>BTC</td>\n",
       "      <td>2018-07-17</td>\n",
       "      <td>8.084040e+06</td>\n",
       "      <td>2018-07-31</td>\n",
       "      <td>8.795600e+06</td>\n",
       "      <td>711560.000</td>\n",
       "      <td>0.088020</td>\n",
       "    </tr>\n",
       "    <tr>\n",
       "      <th>3</th>\n",
       "      <td>BTC</td>\n",
       "      <td>2018-08-27</td>\n",
       "      <td>7.691844e+06</td>\n",
       "      <td>2018-09-15</td>\n",
       "      <td>7.359318e+06</td>\n",
       "      <td>-332525.500</td>\n",
       "      <td>-0.043231</td>\n",
       "    </tr>\n",
       "    <tr>\n",
       "      <th>4</th>\n",
       "      <td>ETH</td>\n",
       "      <td>2018-01-03</td>\n",
       "      <td>1.296148e+06</td>\n",
       "      <td>2018-01-15</td>\n",
       "      <td>1.791604e+06</td>\n",
       "      <td>495456.000</td>\n",
       "      <td>0.382253</td>\n",
       "    </tr>\n",
       "    <tr>\n",
       "      <th>...</th>\n",
       "      <td>...</td>\n",
       "      <td>...</td>\n",
       "      <td>...</td>\n",
       "      <td>...</td>\n",
       "      <td>...</td>\n",
       "      <td>...</td>\n",
       "      <td>...</td>\n",
       "    </tr>\n",
       "    <tr>\n",
       "      <th>2291</th>\n",
       "      <td>SUI</td>\n",
       "      <td>2023-09-29</td>\n",
       "      <td>6.493245e+02</td>\n",
       "      <td>2023-10-04</td>\n",
       "      <td>5.987005e+02</td>\n",
       "      <td>-50.624</td>\n",
       "      <td>-0.077964</td>\n",
       "    </tr>\n",
       "    <tr>\n",
       "      <th>2292</th>\n",
       "      <td>SUI</td>\n",
       "      <td>2023-10-28</td>\n",
       "      <td>6.453225e+02</td>\n",
       "      <td>2023-11-19</td>\n",
       "      <td>7.506245e+02</td>\n",
       "      <td>105.302</td>\n",
       "      <td>0.163177</td>\n",
       "    </tr>\n",
       "    <tr>\n",
       "      <th>2293</th>\n",
       "      <td>SUI</td>\n",
       "      <td>2023-11-25</td>\n",
       "      <td>8.774385e+02</td>\n",
       "      <td>2023-12-13</td>\n",
       "      <td>9.005495e+02</td>\n",
       "      <td>23.111</td>\n",
       "      <td>0.026339</td>\n",
       "    </tr>\n",
       "    <tr>\n",
       "      <th>2294</th>\n",
       "      <td>GRT</td>\n",
       "      <td>2023-10-23</td>\n",
       "      <td>1.210605e+02</td>\n",
       "      <td>2023-11-15</td>\n",
       "      <td>1.789105e+02</td>\n",
       "      <td>57.850</td>\n",
       "      <td>0.477860</td>\n",
       "    </tr>\n",
       "    <tr>\n",
       "      <th>2295</th>\n",
       "      <td>GRT</td>\n",
       "      <td>2023-11-24</td>\n",
       "      <td>2.071035e+02</td>\n",
       "      <td>2023-12-16</td>\n",
       "      <td>2.228885e+02</td>\n",
       "      <td>15.785</td>\n",
       "      <td>0.076218</td>\n",
       "    </tr>\n",
       "  </tbody>\n",
       "</table>\n",
       "<p>2296 rows × 7 columns</p>\n",
       "</div>"
      ],
      "text/plain": [
       "     coin    buy_date           buy   sell_date          sell       profit  \\\n",
       "0     BTC  2018-01-05  2.745772e+07  2018-01-11  1.937931e+07 -8078416.500   \n",
       "1     BTC  2018-04-20  9.556776e+06  2018-05-09  1.039980e+07   843021.500   \n",
       "2     BTC  2018-07-17  8.084040e+06  2018-07-31  8.795600e+06   711560.000   \n",
       "3     BTC  2018-08-27  7.691844e+06  2018-09-15  7.359318e+06  -332525.500   \n",
       "4     ETH  2018-01-03  1.296148e+06  2018-01-15  1.791604e+06   495456.000   \n",
       "...   ...         ...           ...         ...           ...          ...   \n",
       "2291  SUI  2023-09-29  6.493245e+02  2023-10-04  5.987005e+02      -50.624   \n",
       "2292  SUI  2023-10-28  6.453225e+02  2023-11-19  7.506245e+02      105.302   \n",
       "2293  SUI  2023-11-25  8.774385e+02  2023-12-13  9.005495e+02       23.111   \n",
       "2294  GRT  2023-10-23  1.210605e+02  2023-11-15  1.789105e+02       57.850   \n",
       "2295  GRT  2023-11-24  2.071035e+02  2023-12-16  2.228885e+02       15.785   \n",
       "\n",
       "      profit_rate  \n",
       "0       -0.294213  \n",
       "1        0.088212  \n",
       "2        0.088020  \n",
       "3       -0.043231  \n",
       "4        0.382253  \n",
       "...           ...  \n",
       "2291    -0.077964  \n",
       "2292     0.163177  \n",
       "2293     0.026339  \n",
       "2294     0.477860  \n",
       "2295     0.076218  \n",
       "\n",
       "[2296 rows x 7 columns]"
      ]
     },
     "execution_count": 16,
     "metadata": {},
     "output_type": "execute_result"
    }
   ],
   "source": [
    "df_total_trade"
   ]
  },
  {
   "cell_type": "code",
   "execution_count": 17,
   "metadata": {},
   "outputs": [
    {
     "data": {
      "text/plain": [
       "coin\n",
       "1INCH     -14.365319\n",
       "AAVE      -56.572651\n",
       "ADA      3500.826590\n",
       "AERGO     -68.536819\n",
       "AHT       163.215448\n",
       "            ...     \n",
       "XLM         8.605942\n",
       "XRP       841.802223\n",
       "XTZ       -40.750591\n",
       "ZIL      1381.396239\n",
       "ZRX       121.354327\n",
       "Name: profit_rate_plus, Length: 94, dtype: float64"
      ]
     },
     "execution_count": 17,
     "metadata": {},
     "output_type": "execute_result"
    }
   ],
   "source": [
    "# 수익률 퍼센트\n",
    "temp = df_total_trade.copy()\n",
    "temp['profit_rate_plus'] = temp['profit_rate'] + 1\n",
    "res = (temp.groupby('coin')['profit_rate_plus'].prod()-1)*100\n",
    "res"
   ]
  },
  {
   "cell_type": "code",
   "execution_count": 18,
   "metadata": {},
   "outputs": [
    {
     "data": {
      "text/plain": [
       "count    94.000000\n",
       "mean      6.487649\n",
       "std      10.895080\n",
       "min       0.073771\n",
       "25%       0.924328\n",
       "50%       2.092418\n",
       "75%       7.504208\n",
       "max      71.771489\n",
       "Name: profit_rate_plus, dtype: float64"
      ]
     },
     "execution_count": 18,
     "metadata": {},
     "output_type": "execute_result"
    }
   ],
   "source": [
    "# 각 투자결과에 대한 describe\n",
    "(1 + 1*(res/100)).describe()"
   ]
  },
  {
   "cell_type": "code",
   "execution_count": 21,
   "metadata": {},
   "outputs": [
    {
     "data": {
      "text/plain": [
       "5.4787234042553195"
      ]
     },
     "execution_count": 21,
     "metadata": {},
     "output_type": "execute_result"
    }
   ],
   "source": [
    "(609-94)/94"
   ]
  },
  {
   "cell_type": "code",
   "execution_count": 22,
   "metadata": {},
   "outputs": [
    {
     "data": {
      "text/plain": [
       "609.8390445514307"
      ]
     },
     "execution_count": 22,
     "metadata": {},
     "output_type": "execute_result"
    }
   ],
   "source": [
    "(1 + 1*(res/100)).sum()"
   ]
  },
  {
   "cell_type": "code",
   "execution_count": 9,
   "metadata": {},
   "outputs": [
    {
     "data": {
      "text/plain": [
       "335.3811782348709"
      ]
     },
     "execution_count": 9,
     "metadata": {},
     "output_type": "execute_result"
    }
   ],
   "source": [
    "# BTC만 투자했을 때 수익률 퍼센트\n",
    "res['BTC']"
   ]
  },
  {
   "cell_type": "code",
   "execution_count": 10,
   "metadata": {},
   "outputs": [
    {
     "data": {
      "text/plain": [
       "coin\n",
       "BORA     6623.203435\n",
       "CHZ      3539.701204\n",
       "ETC      3115.682807\n",
       "TFUEL    2015.330455\n",
       "ADA      1997.307567\n",
       "BTT      1928.788511\n",
       "MANA     1889.528671\n",
       "POLYX    1718.209857\n",
       "BTG      1559.537936\n",
       "SAND     1283.003468\n",
       "Name: profit_rate_plus, dtype: float64"
      ]
     },
     "execution_count": 10,
     "metadata": {},
     "output_type": "execute_result"
    }
   ],
   "source": [
    "res.sort_values(ascending=False)[:10] "
   ]
  },
  {
   "cell_type": "code",
   "execution_count": 11,
   "metadata": {},
   "outputs": [
    {
     "data": {
      "text/plain": [
       "coin\n",
       "SOL     -72.991618\n",
       "STPT    -73.621306\n",
       "STX     -74.593697\n",
       "UPP     -76.739612\n",
       "STEEM   -78.260327\n",
       "SBD     -79.242067\n",
       "AQT     -82.201949\n",
       "MTL     -86.279451\n",
       "STRAX   -86.683330\n",
       "IQ      -93.689312\n",
       "Name: profit_rate_plus, dtype: float64"
      ]
     },
     "execution_count": 11,
     "metadata": {},
     "output_type": "execute_result"
    }
   ],
   "source": [
    "res.sort_values(ascending=False)[-10:]"
   ]
  },
  {
   "cell_type": "code",
   "execution_count": null,
   "metadata": {},
   "outputs": [],
   "source": []
  }
 ],
 "metadata": {
  "kernelspec": {
   "display_name": "base",
   "language": "python",
   "name": "python3"
  },
  "language_info": {
   "codemirror_mode": {
    "name": "ipython",
    "version": 3
   },
   "file_extension": ".py",
   "mimetype": "text/x-python",
   "name": "python",
   "nbconvert_exporter": "python",
   "pygments_lexer": "ipython3",
   "version": "3.11.7"
  }
 },
 "nbformat": 4,
 "nbformat_minor": 2
}
